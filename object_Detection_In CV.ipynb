{
 "cells": [
  {
   "cell_type": "code",
   "execution_count": null,
   "metadata": {},
   "outputs": [],
   "source": [
    "import cv2\n",
    "from matplotlib import pyplot as plt"
   ]
  },
  {
   "cell_type": "code",
   "execution_count": null,
   "metadata": {},
   "outputs": [],
   "source": [
    "# Specify the configuration file for an SSD MobileNet V3 model trained on the COCO dataset\n",
    "config_file = 'ssd_mobilenet_v3_large_coco_2020_01_14.pbtxt'\n",
    "# Specify the filename of a frozen (pre-trained) inference graph model\n",
    "frozen_model = 'frozen_inference_graph.pb'"
   ]
  },
  {
   "cell_type": "code",
   "execution_count": null,
   "metadata": {},
   "outputs": [],
   "source": [
    "# Create a DetectionModel using OpenCV's dnn module\n",
    "model =cv2.dnn_DetectionModel(frozen_model, config_file)\n"
   ]
  },
  {
   "cell_type": "code",
   "execution_count": null,
   "metadata": {},
   "outputs": [],
   "source": [
    " #classLabels = [] # Create an empty list to store class labels\n",
    "classLabels = [] # Specify the filename of the labels file\n",
    "file_name = 'labels.txt'\n",
    "with open(file_name, 'rt') as fpt:\n",
    "    ClassLabels = fpt.read().rstrip('\\n').split('\\n')\n",
    "    \n",
    "    \n",
    "file_name = 'labels.txt'\n",
    "# Open and read the labels file\n",
    "with open(file_name, 'rt') as fpt:\n",
    "    # Read the content of the file, remove trailing newline characters,\n",
    "    # and split the content into a list of class labels\n",
    "    ClassLabels = fpt.read().rstrip('\\n').split('\\n')"
   ]
  },
  {
   "cell_type": "code",
   "execution_count": null,
   "metadata": {},
   "outputs": [],
   "source": [
    "print(ClassLabels)"
   ]
  },
  {
   "cell_type": "code",
   "execution_count": null,
   "metadata": {},
   "outputs": [],
   "source": [
    "\n",
    "\n",
    "\n",
    "# Read an image from the specified file path\n",
    "img = cv2.imread(\"fdf.jpg\")\n",
    "# Convert the image from BGR to RGB color space\n",
    "c_image = cv2.cvtColor(img, cv2.COLOR_BGR2RGB)\n",
    "# Display the image using matplotlib's pyplot\n",
    "plt.imshow(c_image)"
   ]
  },
  {
   "cell_type": "code",
   "execution_count": null,
   "metadata": {},
   "outputs": [],
   "source": [
    "model.setInputSize(320,320)\n",
    "model.setInputScale(1.0/127.5)\n",
    "model.setInputMean(127.5)\n",
    "model.setInputSwapRB(True)"
   ]
  },
  {
   "cell_type": "code",
   "execution_count": null,
   "metadata": {},
   "outputs": [],
   "source": [
    "ClassIndex, confidece, bbox = model.detect(c_image, confThreshold=0.5)\n",
    "print(ClassIndex)\n"
   ]
  },
  {
   "cell_type": "code",
   "execution_count": null,
   "metadata": {},
   "outputs": [],
   "source": [
    "classLabels = []\n",
    "file_name = 'labels.txt'\n",
    "with open(file_name, 'rt') as fpt:\n",
    "    ClassLabels = fpt.read().rstrip('\\n').split('\\n')\n",
    "    \n",
    "     #classLabels = [] # Create an empty list to store class labels\n",
    "    # Specify the filename of the labels file\n",
    "file_name = 'labels.txt'\n",
    "# Open and read the labels file\n",
    "with open(file_name, 'rt') as fpt:\n",
    "    # Read the content of the file, remove trailing newline characters,\n",
    "    # and split the content into a list of class labels\n",
    "    ClassLabels = fpt.read().rstrip('\\n').split('\\n')"
   ]
  },
  {
   "cell_type": "code",
   "execution_count": null,
   "metadata": {},
   "outputs": [],
   "source": [
    "\n"
   ]
  },
  {
   "cell_type": "code",
   "execution_count": null,
   "metadata": {},
   "outputs": [],
   "source": [
    "if 1 <= ClassInd <= len(ClassLabels):\n",
    "    cv2.putText(c_image, ClassLabels[ClassInd - 1], ...)"
   ]
  },
  {
   "cell_type": "code",
   "execution_count": null,
   "metadata": {},
   "outputs": [],
   "source": [
    "plt.imshow(c_image)"
   ]
  },
  {
   "cell_type": "code",
   "execution_count": null,
   "metadata": {},
   "outputs": [],
   "source": [
    "import cv2\n",
    "cap = cv2.VideoCapture(\"Pvideo.mp4\")\n",
    "if not cap.isOpened():\n",
    "    cap = cv2.VideoCapture(0)\n",
    "if not cap.isOpened():\n",
    "    raise IOError(\"Cannot Play Video\")\n",
    "\n",
    "font_scale = 1\n",
    "font = cv2.FONT_HERSHEY_SIMPLEX\n",
    "\n",
    "while True:\n",
    "    ret, frame = cap.read()\n",
    "    ClassIndex, confidence, bbox = model.detect(frame, confThreshold=0.55)\n",
    "    \n",
    "    print(ClassIndex)\n",
    "    if len(ClassIndex) != 0:\n",
    "        for ClassInd, conf, boxes in zip(ClassIndex.flatten(), confidence.flatten(), bbox):\n",
    "            if ClassInd <= 80:\n",
    "                cv2.rectangle(frame, boxes, (255, 0, 0), 2)\n",
    "                label = ClassLabels[ClassInd - 1]\n",
    "                text_size = cv2.getTextSize(label, font, font_scale, 1)[0]\n",
    "                cv2.putText(\n",
    "                    frame,\n",
    "                    label,\n",
    "                    (boxes[0], boxes[1] + 10 + text_size[1]),\n",
    "                    font,\n",
    "                    font_scale,\n",
    "                    (0, 255, 0),\n",
    "                    1,\n",
    "                )\n",
    "    cv2.imshow(\"Object_Detection\", frame)\n",
    "    \n",
    "    if cv2.waitKey(1) & 0xFF == ord('q'):  # Fix typo: use 'waitKey' instead of 'waitkey'\n",
    "        break\n",
    "\n",
    "cap.release()\n",
    "cv2.destroyAllWindows() \n",
    "cv2.WaitKey(0)"
   ]
  },
  {
   "cell_type": "code",
   "execution_count": null,
   "metadata": {},
   "outputs": [],
   "source": []
  },
  {
   "cell_type": "code",
   "execution_count": null,
   "metadata": {},
   "outputs": [],
   "source": []
  },
  {
   "cell_type": "code",
   "execution_count": null,
   "metadata": {},
   "outputs": [],
   "source": []
  },
  {
   "cell_type": "code",
   "execution_count": null,
   "metadata": {},
   "outputs": [],
   "source": []
  },
  {
   "cell_type": "code",
   "execution_count": null,
   "metadata": {},
   "outputs": [],
   "source": []
  },
  {
   "cell_type": "code",
   "execution_count": null,
   "metadata": {},
   "outputs": [],
   "source": []
  },
  {
   "cell_type": "code",
   "execution_count": null,
   "metadata": {},
   "outputs": [],
   "source": []
  },
  {
   "cell_type": "code",
   "execution_count": null,
   "metadata": {},
   "outputs": [],
   "source": []
  },
  {
   "cell_type": "code",
   "execution_count": null,
   "metadata": {},
   "outputs": [],
   "source": []
  }
 ],
 "metadata": {
  "kernelspec": {
   "display_name": "Python 3 (ipykernel)",
   "language": "python",
   "name": "python3"
  },
  "language_info": {
   "codemirror_mode": {
    "name": "ipython",
    "version": 3
   },
   "file_extension": ".py",
   "mimetype": "text/x-python",
   "name": "python",
   "nbconvert_exporter": "python",
   "pygments_lexer": "ipython3",
   "version": "3.11.7"
  }
 },
 "nbformat": 4,
 "nbformat_minor": 4
}
